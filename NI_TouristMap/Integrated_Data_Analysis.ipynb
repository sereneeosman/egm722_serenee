{
 "cells": [
  {
   "cell_type": "markdown",
   "id": "d2ed2ffb-f080-4e3d-ad25-559c1f71317d",
   "metadata": {},
   "source": [
    "# Intergrated Data Analysis"
   ]
  },
  {
   "cell_type": "markdown",
   "id": "0af5b27a-c74b-4c05-b6bf-663a326ed9ea",
   "metadata": {},
   "source": [
    "## 1. Fixing Geometry in Shapefiles #\n",
    "\n",
    "the process of repairing or adjusting the geometric properties of __spatial data__, such as __points__, __lines__, or __polygons__, to ensure they meet certain criteria or standards. This could involve tasks such as removing or correcting invalid geometries, simplifying shapes, snapping vertices to a grid, or resolving topological errors. Libraries such as `Shapely` and `GeoPandas` provide functionality to perform these operations efficiently.\n"
   ]
  },
  {
   "cell_type": "markdown",
   "id": "32b01877-a281-41df-9449-b2aa4df16ff0",
   "metadata": {},
   "source": [
    "### Getting Started\n",
    "The geopandas package offers a range of functionalities for performing various operations and analyses on vector geospatial data (a [GeoDataFrame](https://geopandas.org/en/stable/docs/reference/geodataframe.html)). \n",
    "\n",
    "Importing the `geopandas` library with the alias `gpd` ,it provides a shorter and easier-to-use name for referencing the library's functions and objects throughout the code."
   ]
  },
  {
   "cell_type": "code",
   "execution_count": null,
   "id": "c5b5b62e-cc5d-456b-9c04-0af43ecdd8c4",
   "metadata": {},
   "outputs": [],
   "source": [
    "import geopandas as gpd"
   ]
  },
  {
   "cell_type": "markdown",
   "id": "e05cd6c4-e4be-4d59-9ef5-8b4aa31be779",
   "metadata": {},
   "source": [
    "This code reads a shapefiles located in the data directory using `geopandas` library.\n",
    "Read the country outline shapefile."
   ]
  },
  {
   "cell_type": "code",
   "execution_count": null,
   "id": "d0e960e2-7098-4b35-8c46-299771e7de61",
   "metadata": {},
   "outputs": [],
   "source": [
    "# Read the shapefile\n",
    "input_data = gpd.read_file(\"data_files/download_data/OSNI_Open_Data_-_Largescale_Boundaries_-_NI_Outline.shp\")  # Path to the input shapefile"
   ]
  },
  {
   "cell_type": "markdown",
   "id": "d6b6ed28-781c-4c6e-90e8-b26b7eb51c9d",
   "metadata": {},
   "source": [
    "Fixing the geometry of [GeoDataFrame](https://geopandas.org/en/stable/docs/reference/geodataframe.html) by applying the [buffer method](https://geopandas.org/en/stable/docs/reference/api/geopandas.GeoSeries.buffer.html) with a Zero distance. This approach can help resolve common geometry issues such as self-intersections and degenerate geometries."
   ]
  },
  {
   "cell_type": "code",
   "execution_count": null,
   "id": "a96040b3-23bb-4c4e-9d56-9497b6bbd12e",
   "metadata": {},
   "outputs": [],
   "source": [
    "# Fix geometries using buffer method\n",
    "fix_data = input_data.buffer(0)"
   ]
  },
  {
   "cell_type": "markdown",
   "id": "3754a8e9-cb17-4946-bb78-4f7b48c795ce",
   "metadata": {},
   "source": [
    "[.to_crs()](https://geopandas.org/en/stable/docs/reference/api/geopandas.GeoDataFrame.to_crs.html) method in `GeoPandas` is used to transform all geometries from an active coordinate reference system ([CRS](https://geopandas.org/en/stable/docs/user_guide/projections.html)) to another specified CRS. It allows you to convert the spatial data in your __GeoDataFrame__ to a different CRS, ensuring consistency or enabling analysis in a different geographic context.\n",
    "\n",
    "Re-project the `crs` to WGS84 latitude/longitude [(EPSG:4326)](https://epsg.io/4326)"
   ]
  },
  {
   "cell_type": "code",
   "execution_count": null,
   "id": "8247b011-457a-4ac7-a941-3437b1804f54",
   "metadata": {},
   "outputs": [],
   "source": [
    "# Set CRS to WGS84\n",
    "fixed_data = fix_data.to_crs(\"epsg:4326\")"
   ]
  },
  {
   "cell_type": "markdown",
   "id": "e52682da-cf8f-4fc1-8279-55f72f46f1f2",
   "metadata": {},
   "source": [
    "The`.to_file` [(documentation)](https://geopandas.org/en/stable/docs/reference/api/geopandas.GeoDataFrame.to_file.html) function saves the fixed geometries __GeoDataFrame__,into new shapefile."
   ]
  },
  {
   "cell_type": "code",
   "execution_count": null,
   "id": "15d626b5-646f-4106-aa4c-b8e391889d72",
   "metadata": {},
   "outputs": [],
   "source": [
    "# Save the fixed geometries to a new shapefile\n",
    "fixed_data.to_file(\"data_files/NI_Outline.shp\") # Path to the fixed output shapefile"
   ]
  },
  {
   "cell_type": "markdown",
   "id": "d5e8a72e-bba4-44ba-95ea-7f161b42ea85",
   "metadata": {},
   "source": [
    "You are free to utilize the output data for analysis."
   ]
  },
  {
   "cell_type": "markdown",
   "id": "041e3967-f30a-4c5d-97fa-7d6baf9dd2c1",
   "metadata": {},
   "source": [
    "## 2. Coordinate Reference System (CRS) Re-Projection\n",
    "\n",
    "Coordinate Re-Projection[(documentation)](https://geopandas.org/en/stable/docs/user_guide/projections.html#re-projecting) is the process of transforming coordinates from one Coordinate Reference System (CRS)[(documentation)](https://geopandas.org/en/stable/docs/user_guide/projections.html) to another. A `CRS` is a framework used to specify locations on the Earth's surface. It's essentially a coordinate-based system that allows for the precise identification of geographic features and positions.\n",
    "\n",
    "### Getting Started\n",
    "Importing the geopandas library with the alias gpd ,it provides a shorter and easier-to-use name for referencing the library's functions and objects throughout the code."
   ]
  },
  {
   "cell_type": "code",
   "execution_count": null,
   "id": "7fe2fba0-dd3c-4aad-8f4a-50defb6cfd93",
   "metadata": {},
   "outputs": [],
   "source": [
    "import geopandas as gpd"
   ]
  },
  {
   "cell_type": "markdown",
   "id": "eb1119b4-9dd7-44a6-b8a8-a91c35d9f414",
   "metadata": {},
   "source": [
    "This code reads a shapefiles (a [__GeoDataFrame__](https://geopandas.org/en/stable/docs/reference/geodataframe.html)) located in the data directory using \"geopandas\" library."
   ]
  },
  {
   "cell_type": "code",
   "execution_count": null,
   "id": "f72339ac-519e-4a7e-9295-26f55c0d3e29",
   "metadata": {},
   "outputs": [],
   "source": [
    "# Read the downloaded shapefiles\n",
    "tourist_tmp = gpd.read_file(\"data_files/download_data/Historic_Parks_and_Gardens20240410.shp\")  # Path to the input shapefile of Historic Park and Garden Data.\n"
   ]
  },
  {
   "cell_type": "markdown",
   "id": "84f8271a-8ae8-4fab-a7e8-ef6877103476",
   "metadata": {},
   "source": [
    "[.to_crs()](https://geopandas.org/en/stable/docs/reference/api/geopandas.GeoDataFrame.to_crs.html) method in GeoPandas is used to transform all geometries from an active coordinate reference system ([CRS](https://geopandas.org/en/stable/docs/user_guide/projections.html)) to another specified CRS. It allows you to convert the spatial data in your GeoDataFrame to a different CRS, ensuring consistency or enabling analysis in a different geographic context.\n",
    "\n",
    "Re-project the `crs` to WGS84 latitude/longitude [(EPSG:4326)](https://epsg.io/4326)"
   ]
  },
  {
   "cell_type": "code",
   "execution_count": null,
   "id": "1c85d6d1-f3ae-46ee-abda-13c18230ff62",
   "metadata": {},
   "outputs": [],
   "source": [
    "# Set CRS to WGS84\n",
    "tourist_prj = tourist_tmp.to_crs(\"epsg:4326\")"
   ]
  },
  {
   "cell_type": "markdown",
   "id": "19ddc307-b2ea-4878-bd26-7775cc0f6ec4",
   "metadata": {},
   "source": [
    "The`.to_file` [(documentation)](https://geopandas.org/en/stable/docs/reference/api/geopandas.GeoDataFrame.to_file.html) function saves the crs transform GeoDataFrame, into a new shapefile."
   ]
  },
  {
   "cell_type": "code",
   "execution_count": null,
   "id": "cf55ed3a-5c04-4bee-9eca-7c37967d86dd",
   "metadata": {},
   "outputs": [],
   "source": [
    "# Save the fixed geometries to a new shapefile\n",
    "tourist_prj.to_file(\"data_files/NI_Tourist_Sites.shp\") # Path to the output shapefile of heritage parks and Gardens"
   ]
  },
  {
   "cell_type": "markdown",
   "id": "02ae4284-21d7-4b3a-a000-5624b7be5fd0",
   "metadata": {},
   "source": [
    "You have successfully re-project the Shapefile."
   ]
  },
  {
   "cell_type": "markdown",
   "id": "3af59c69-17b9-4c04-949a-78eb1235e0e2",
   "metadata": {},
   "source": [
    "## 3. Clipping shapefiles\n",
    "Clipping shapefiles refers to the process of spatially limiting or cutting down the extent of a shapefile based on the boundary of another shapefile or a defined boundary area. When examining a shapefile of counties in ArcGIS or QGIS, you might notice that county boundaries extend across water features, which can be confusing for map users. To address this, we will refine the map by removing extraneous elements using the country's outline border.\n",
    "\n",
    "### Getting Started\n",
    "\n",
    "Importing the geopandas library with the alias gpd.\n"
   ]
  },
  {
   "cell_type": "code",
   "execution_count": null,
   "id": "a55185da-7804-4d6a-8812-a724c8baab65",
   "metadata": {},
   "outputs": [],
   "source": [
    "import geopandas as gpd"
   ]
  },
  {
   "cell_type": "markdown",
   "id": "8612321a-19f3-495b-8806-ddcc2fb18684",
   "metadata": {},
   "source": [
    "Read the __GeoDataFrames__ of \"counties shapefile\" and the __geometry fixed__ \"country outline\" data."
   ]
  },
  {
   "cell_type": "code",
   "execution_count": null,
   "id": "81fe5bb1-a10a-4768-a9da-d697327f34e5",
   "metadata": {},
   "outputs": [],
   "source": [
    "# Read the shapefiles\n",
    "input_counties = gpd.read_file(\"data_files/download_data/OSNI_Open_Data_-_Largescale_Boundaries_-_County_Boundaries_.shp\")# Path to the input shapefile of County Boundaries\n",
    "clip_data = gpd.read_file(\"data_files/NI_outline.shp\")#path to the country border"
   ]
  },
  {
   "cell_type": "markdown",
   "id": "b3cd0c4f-075f-4a58-bc30-d641b71a0fdf",
   "metadata": {},
   "source": [
    "To ensure that all files are in a common CRS (Coordinate Reference System), we need to reproject the GeoDataFrames using the  `.to_crs`[(documentation)](https://www.google.com/search?q=to_crs+geopandas&rlz=1C1JCYX_jaJP1077JP1077&oq=.to_crs+&gs_lcrp=EgZjaHJvbWUqBggBEAAYHjIGCAAQRRg5MgYIARAAGB4yBggCEAAYHjIICAMQABgIGB4yCggEEAAYgAQYogQyCggFEAAYgAQYogQyCggGEAAYgAQYogQyCggHEAAYgAQYogTSAQgyODM5ajBqN6gCALACAA&sourceid=chrome&ie=UTF-8) fuction. In the previous step, the outline shapefile has already been reprojected into WGS84. Now, we need to transform the geometries of the GeoDataFrames called \"input_counties\" to the desired CRS, which in this case is WGS84.\n"
   ]
  },
  {
   "cell_type": "code",
   "execution_count": null,
   "id": "9692211b-a461-4864-b304-4ede25c7fc57",
   "metadata": {},
   "outputs": [],
   "source": [
    "# Assign CRS to the clipped data (assuming the original data uses the same CRS)\n",
    "prj_counties = input_counties.to_crs (\"epsg:4326\")"
   ]
  },
  {
   "cell_type": "markdown",
   "id": "ebe3bcd2-5c2b-4d41-9603-a65f3d5d2872",
   "metadata": {},
   "source": [
    "`.crs`[(documentation)](https://geopandas.org/en/latest/docs/reference/api/geopandas.GeoDataFrame.crs.html) function use for check the existing CRS  of __GeoDataFrames__."
   ]
  },
  {
   "cell_type": "code",
   "execution_count": null,
   "id": "58094286-a750-47ed-9a0c-5fdd382ed099",
   "metadata": {},
   "outputs": [],
   "source": [
    "prj_counties.crs"
   ]
  },
  {
   "cell_type": "markdown",
   "id": "49466529-3edc-4e2b-8232-5dcebb82f001",
   "metadata": {},
   "source": [
    "Next, we're going to clip the counties polygon layer using an outline polygon layer. Both GeoDataFrames have the same Coordinate Reference System (CRS).\n",
    "* `gpd.overlay`[(documentation)](https://geopandas.org/en/stable/docs/reference/api/geopandas.overlay.html) function overlaying two GeoDataFrames to compute spatial overlay operations, such as intersection, union, or difference.\n",
    "\n",
    "* `prj_counties` and `clip_data` represent GeoDataFrames containing geographic data, with prj_counties likely representing the __input feature__ and clip_data representing the __feature used for clipping__ (e.g., a boundary or mask).\n",
    "\n",
    "* `keep_geom_type=True` This parameter specifies whether to keep the geometry types of the input GeoDataFrames in the output GeoDataFrame. By setting it to True, the output will retain the geometry types of both prj_counties and clip_data."
   ]
  },
  {
   "cell_type": "code",
   "execution_count": null,
   "id": "ae58022e-c9b9-4a6d-8e88-44dfd7aaa9fe",
   "metadata": {},
   "outputs": [],
   "source": [
    "clipped_counties = gpd.overlay(prj_counties, clip_data, how='intersection', keep_geom_type=True)"
   ]
  },
  {
   "cell_type": "markdown",
   "id": "43366fc0-ffdc-410e-92d6-5b85c9e765c0",
   "metadata": {},
   "source": [
    "Save the result as ashapefile.\n",
    "\n",
    "`.to_fil`[(documentation)](https://geopandas.org/en/stable/docs/reference/api/geopandas.GeoDataFrame.to_file.html) function allows to save new GeoDataFrame. "
   ]
  },
  {
   "cell_type": "code",
   "execution_count": null,
   "id": "071a587a-50e1-4a6d-90cd-1ad61312b08d",
   "metadata": {},
   "outputs": [],
   "source": [
    "# Write the clipped data to a new shapefile\n",
    "clipped_counties.to_file(\"data_files/NI_Counties.shp\") # Path to the fixed output shapefile of County Boundaries"
   ]
  },
  {
   "cell_type": "markdown",
   "id": "3f5c9c21-8d88-47de-a2f1-ade5ab2bdcc6",
   "metadata": {},
   "source": [
    "You have successfully clipped the counties polygons using country outline data."
   ]
  },
  {
   "cell_type": "markdown",
   "id": "00efc702-410f-4add-98ec-af5ed58dd58a",
   "metadata": {},
   "source": [
    "## 4. Data Intergration\n",
    "\n",
    "Python typically refers to the process of combining data from multiple sources, formats, or databases into a unified format that can be analyzed or used for further processing.\n",
    "\n",
    "### i. Integrating GP Surgeries Data by Postal Code\n",
    "We're going to combine the data from GP surgery with postal code data, creating a unified dataset that includes information from both sources.\n",
    "\n",
    "### Getting Started\n",
    "In this step, we will merge two DataFrames and generate a GeoDataFrame as the output.\n",
    "\n",
    "Import the necessary libraries.\n"
   ]
  },
  {
   "cell_type": "code",
   "execution_count": null,
   "id": "155efaea-7287-49a0-a08e-a3afd035e4b0",
   "metadata": {},
   "outputs": [],
   "source": [
    "import pandas as pd\n",
    "import geopandas as gpd"
   ]
  },
  {
   "cell_type": "markdown",
   "id": "84258074-cc39-4dd8-b044-38d5e1414638",
   "metadata": {},
   "source": [
    "Read the __DataFrame__\n",
    "\n",
    "The `.read_csv()`[(documentation)](https://pandas.pydata.org/pandas-docs/stable/reference/api/pandas.read_csv.html) function in `Pandas` is used to read data from CSV (Comma Separated Values) files and load it into a __DataFrame__, which is a tabular data structure similar to a spreadsheet or a database table. "
   ]
  },
  {
   "cell_type": "code",
   "execution_count": null,
   "id": "52819341-0aa1-4b3f-97ae-57d46bb19761",
   "metadata": {},
   "outputs": [],
   "source": [
    "# Load csv data sets\n",
    "uk_postcodes = pd.read_csv(\"data_files/download_data/ukpostcodes.csv\") # path to UK postal code csv file\n",
    "gp_practices = pd.read_csv(\"data_files/download_data/gp-practice-reference-file---jan-2024.csv\") #path to GP practice csv file"
   ]
  },
  {
   "cell_type": "markdown",
   "id": "cc710ea9-ce03-46da-bc71-f877cf7c06d9",
   "metadata": {},
   "source": [
    "Inspect the __DataFrame__ headers to identify a common column that can be used for integrating the __DataFrames__.\n",
    "\n",
    "The `.head()`[(documentation)](https://pandas.pydata.org/docs/reference/api/pandas.DataFrame.head.html) method in Pandas is used to display the first few rows of a __DataFrame__. By default, it shows the first 5 rows, but you can specify a different number of rows by passing an integer argument to the method `.head(n)`."
   ]
  },
  {
   "cell_type": "markdown",
   "id": "1c5dff52-0f70-4669-84f1-2097392a958c",
   "metadata": {},
   "source": [
    "Check the first few rows of the \"uk_postcodes\" DataFrame"
   ]
  },
  {
   "cell_type": "code",
   "execution_count": null,
   "id": "7e7c6ffb-b28c-4cca-858c-da46529b81dd",
   "metadata": {},
   "outputs": [],
   "source": [
    "# check DataFrame Header\n",
    "uk_postcodes.head()"
   ]
  },
  {
   "cell_type": "markdown",
   "id": "cd71b9de-b093-4d61-a2c4-bbb3437ec8ff",
   "metadata": {},
   "source": [
    "Check the first few rows of the \"gp_practices\" DataFrame"
   ]
  },
  {
   "cell_type": "code",
   "execution_count": null,
   "id": "2432e31e-5270-4974-a363-5b795e81aa2b",
   "metadata": {},
   "outputs": [],
   "source": [
    "# check the header\n",
    "gp_practices.head()"
   ]
  },
  {
   "cell_type": "markdown",
   "id": "c924b0b4-0c84-4e78-b683-62ad20528759",
   "metadata": {},
   "source": [
    "This code merges two DataFrame, namely \"uk_postcode\"s and \"gp_practices\", based on a common column in each dataset.\n",
    "\n",
    "* The `.merge`([documentation](https://pandas.pydata.org/docs/reference/api/pandas.merge.html)),fuction provided attempts to merge the two datasets. Merge these datasets based on a common field (the \"postcode\"[uk_postcodes] and \"Postcode\"[gp_practices] columns)\n",
    "\n",
    "* The `left_on`, parameter specifies the column name in the left dataset (uk_postcodes) to use for merging (in this case, \"postcode\").\n",
    "\n",
    "* The `right_on`, parameter specifies the column name in the right dataset (gp_practices) to use for merging (in this case, \"Postcode\").\n",
    "\n",
    "* `how=\"inner\"`, parameter specifies the type of merge to perform. In this case, an inner join is performed, meaning only the rows with matching postal codes in both __DataFrames__ will be included in the merged __DataFrame__."
   ]
  },
  {
   "cell_type": "code",
   "execution_count": null,
   "id": "f9d90ec0-42d4-4f40-8d78-c15fbdaa878c",
   "metadata": {},
   "outputs": [],
   "source": [
    "# merge datasets on postal code\n",
    "merge_data = pd.merge(uk_postcodes, gp_practices, left_on=\"postcode\", right_on=\"Postcode\" , how=\"inner\")"
   ]
  },
  {
   "cell_type": "markdown",
   "id": "2a7a1727-cfc6-4a4b-839e-bd3521b5c2ee",
   "metadata": {},
   "source": [
    "The `.head()` method is then called on the merged DataFrame to display the first few rows. By default, it shows the first five rows, along with the column names."
   ]
  },
  {
   "cell_type": "code",
   "execution_count": null,
   "id": "fb9eb1e3-bdf6-4a9b-a54a-b34e513f72f5",
   "metadata": {},
   "outputs": [],
   "source": [
    "merge_data.head()"
   ]
  },
  {
   "cell_type": "markdown",
   "id": "40df7813-cdca-4622-b4db-bb47eeb25d2e",
   "metadata": {},
   "source": [
    "The downloaded postal code file contains postal codes for the entire United Kingdom (UK). However, for this project, we are only interested in the territory of Northern Ireland, which has postal codes starting with \"BT\". In this step, we will filter the rows of the __DataFrame__ to include only those with postal codes starting with \"BT\".\n",
    "\n",
    "The `.str.startswith() ` [(documentation)](https://pandas.pydata.org/docs/reference/api/pandas.Series.str.startswith.html)  method is a string accessor available in `Pandas` that is applied to a Series containing strings. It checks whether each string in the Series starts with a specified prefix and returns a boolean Series indicating the result of this check for each string.\n",
    "\n",
    "* The `.str`,is a Pandas accessor that allows you to apply string methods to each element of a Series.\n",
    "* The `.startswith(\"BT\")`,is a string method that checks if each string in the Series starts with the specified substring, in this case, \"BT\". It returns a boolean Series where each element indicates whether the corresponding string starts with \"BT\"."
   ]
  },
  {
   "cell_type": "code",
   "execution_count": null,
   "id": "d9290554-f5c3-4b46-99c8-348c769d394a",
   "metadata": {},
   "outputs": [],
   "source": [
    "# Filtering Northern Ireland postcodes\n",
    "ni_postcodes_tmp = merge_data[merge_data[\"postcode\"].str.startswith(\"BT\")]"
   ]
  },
  {
   "cell_type": "markdown",
   "id": "68bc1048-0505-4c78-9a46-d179f05310ee",
   "metadata": {},
   "source": [
    "In this step, we are removing unnecessary columns from the DataFrame \n",
    "\n",
    "`.drop`[(documentation)](https://pandas.pydata.org/pandas-docs/stable/reference/api/pandas.DataFrame.drop.html)  method remove the specified columns on the __DataFrame__. parameter is used to specify the names of the columns to be dropped, provided as a list and returns a new __DataFrame__ with the specified columns removed."
   ]
  },
  {
   "cell_type": "code",
   "execution_count": null,
   "id": "0f2b7e17-8155-4091-b5c7-f431c80e9666",
   "metadata": {},
   "outputs": [],
   "source": [
    "# remove unnecessary columns\n",
    "ni_postcodes = ni_postcodes_tmp.drop(columns=[\"id\" , \"Postcode\", \"LCG\" , \"Registered_Patients\"])"
   ]
  },
  {
   "cell_type": "markdown",
   "id": "83f9faa2-f401-4dcf-a40f-e0bad6fe0ac6",
   "metadata": {},
   "source": [
    "Verify the resulting __DataFrame__ using the `.head` fucntion."
   ]
  },
  {
   "cell_type": "code",
   "execution_count": null,
   "id": "880d346f-ed1a-48b2-a62d-1c25b87f28c1",
   "metadata": {},
   "outputs": [],
   "source": [
    "ni_postcodes.head()"
   ]
  },
  {
   "cell_type": "markdown",
   "id": "28155689-5a5b-4a7c-a16f-6b1fe446708c",
   "metadata": {},
   "source": [
    "We'll create a new GeoDataFrame from an existing DataFrame.\n",
    "\n",
    "The `gpd.GeoDataFrame`[(documentation)](https://geopandas.org/en/stable/docs/reference/api/geopandas.points_from_xy.html) function from the \"GeoPandas\" library is used to create a __GeoDataFrame__ from a regular DataFrame\n",
    " \n",
    "`.points_from_xy`[(documentation)](https://geopandas.org/en/stable/docs/reference/api/geopandas.points_from_xy.html) function specifies the geometry column of the GeoDataFrame. In this case, it creates a new geometry column by converting latitude and longitude coordinates into Point geometries. The __longitude__ and __latitude__ columns from the DataFrame \"ni_postcodes\" are used as inputs. "
   ]
  },
  {
   "cell_type": "code",
   "execution_count": null,
   "id": "af868e64-0ce3-4270-8edf-7053ceca37b9",
   "metadata": {},
   "outputs": [],
   "source": [
    "# convert the Dataframe to a Geodataframe\n",
    "ni_postcodes_geo = gpd.GeoDataFrame(ni_postcodes, geometry=gpd.points_from_xy(ni_postcodes.longitude, ni_postcodes.latitude))"
   ]
  },
  {
   "cell_type": "markdown",
   "id": "451587b1-e127-4b3f-a946-d407c92ba239",
   "metadata": {},
   "source": [
    "Save the GeoDataFrame as a GeoJSON file.\n",
    "\n",
    "* The `.to_file` [(documentation)](https://geopandas.org/en/stable/docs/reference/api/geopandas.GeoDataFrame.to_json.html) method is used to save the GeoDataFrame to a file.\n",
    "\n",
    "* The `driver=\"GeoJSON\"` parameter specifies the file format to use for saving the data. In this case, we're using the GeoJSON format."
   ]
  },
  {
   "cell_type": "code",
   "execution_count": null,
   "id": "a32b4597-426a-4e23-ab3c-45d35656f03d",
   "metadata": {},
   "outputs": [],
   "source": [
    "# Save filtered dataset\n",
    "ni_postcodes_geo.to_file(\"data_files/NI_PostCodes_GP.geojson\", driver=\"GeoJSON\")"
   ]
  },
  {
   "cell_type": "markdown",
   "id": "0241142e-7e4a-4aec-8aa2-9952042f9f27",
   "metadata": {},
   "source": [
    "You have successfully exported the GeoJSON file combining GP surgery details with postal codes."
   ]
  },
  {
   "cell_type": "markdown",
   "id": "b1c063c9-603f-4436-9583-664f61d76c51",
   "metadata": {},
   "source": [
    "### ii. Distance Calculation.\n",
    "We'll locate the closest transport hub along with its distance and also identify the nearest GP surgery and its distance from the tourist sites.\n",
    "\n",
    "### Getting Started\n",
    "In this step, we will handle __GeoDataFrames__ and calculate the distances.\n",
    "\n",
    "Import the necessary libraries. "
   ]
  },
  {
   "cell_type": "code",
   "execution_count": null,
   "id": "69c281cd-11b6-4eef-a538-490998acf5e7",
   "metadata": {},
   "outputs": [],
   "source": [
    "import pandas as pd\n",
    "import geopandas as gpd"
   ]
  },
  {
   "cell_type": "markdown",
   "id": "815944cb-80ba-4b51-82f0-0cf9f1bee635",
   "metadata": {},
   "source": [
    "Read previously projected tourist sites data(a __GeoDataFrame__)."
   ]
  },
  {
   "cell_type": "code",
   "execution_count": null,
   "id": "3a2d1b6f-844b-4345-ab05-a1cf7d22def4",
   "metadata": {},
   "outputs": [],
   "source": [
    "# Read projected tourist data\n",
    "tourist = gpd.read_file(\"data_files/NI_Tourist_Sites.shp\")  # Path to the input shapefile of projected tourist sites "
   ]
  },
  {
   "cell_type": "markdown",
   "id": "365d2432-ec99-4e80-8ce3-8d40189a54e6",
   "metadata": {},
   "source": [
    "Check the first few rows and try to gain a better understanding of its contents.\n",
    "In this dataset, the `geometry` column represents spatial data in the form of \"polygons\", which are geometric shapes defined by a series of connected points in space."
   ]
  },
  {
   "cell_type": "code",
   "execution_count": null,
   "id": "32e0064c-f966-4f7a-aef2-04812ae517fb",
   "metadata": {},
   "outputs": [],
   "source": [
    "tourist.head()"
   ]
  },
  {
   "cell_type": "markdown",
   "id": "8b1c20c1-f115-4379-8580-256d415d9767",
   "metadata": {},
   "source": [
    "Read the GeoJSON files and reproject them into the \"Cartesian 2D\" coordinate reference system([EPSG:2157,IRENET95 / Irish Transverse Mercator](https://epsg.io/2157)).\n",
    "\n",
    "The choice of coordinate system significantly influences the accuracy of __distance calculations__ [(documentation)](https://automating-gis-processes.github.io/CSC/notebooks/L2/projections.html#Calculating-distances).This \"Cartesian 2D\" coordinate reference system ([Projected Coordinate System](https://www.esri.com/arcgis-blog/products/arcgis-pro/mapping/gcs_vs_pcs/#:~:text=A%20projected%20coordinate%20system%20(PCS)%20is%20a%20GCS%20that%20has,to%20know%20how%20to%20draw.)) is crucial for accurate distance calculations, as it uses \"Cartesian coordinates\" in \"meters\", providing precise measurements over __flat surfaces__. WGS84, on the other hand, utilizes longitudes and latitudes in the [geographic coordinate system ](https://desktop.arcgis.com/en/arcmap/latest/map/projections/about-geographic-coordinate-systems.htm#:~:text=A%20geographic%20coordinate%20system%20(GCS,(based%20on%20a%20spheroid).) , which may not yield accurate distance measurements due to the Earth's curved surface.\n"
   ]
  },
  {
   "cell_type": "markdown",
   "id": "20e32ea0-a2e7-4cd0-8943-1b0fba12cf0c",
   "metadata": {},
   "source": [
    "Read the downloaded Transport hub \"geojson\" data (a __GeoDataFrame__)"
   ]
  },
  {
   "cell_type": "code",
   "execution_count": null,
   "id": "719f9018-79ce-4e8b-a79e-bf842fc785aa",
   "metadata": {},
   "outputs": [],
   "source": [
    "#Load Transport hubs and transform to Irish Transverse Mercator \n",
    "transport = gpd.read_file(\"data_files/download_data/translink-stations-ni.geojson\").to_crs(\"epsg:2157\")"
   ]
  },
  {
   "cell_type": "markdown",
   "id": "488c8eeb-8264-4de4-9c0a-ff8136c25209",
   "metadata": {},
   "source": [
    "Read the previously integrated \"geojson\" dataset containing GP surgeries and postal codes (a __GeoDataFrame__)."
   ]
  },
  {
   "cell_type": "code",
   "execution_count": null,
   "id": "6c23392d-e1bd-4e32-aeb2-a9e87b53e6b8",
   "metadata": {},
   "outputs": [],
   "source": [
    "#read combine geojason file of postcodes and GP practice data and transform to Irish Transverse Mercator \n",
    "post_gp = gpd.read_file(\"data_files/NI_PostCodes_GP.geojson\").to_crs(\"epsg:2157\")"
   ]
  },
  {
   "cell_type": "markdown",
   "id": "0e2cd886-ca75-4618-93b9-b60bd94d1a2e",
   "metadata": {},
   "source": [
    "This code snippet iterates over each tourist site in the GeoDataFrame tourist, calculates the distance to the nearest bus/train station and the nearest GP surgery, and records the shortest distance in kilometers along with the name of the station.\n",
    "\n",
    "explanation of the code:\n",
    "\n",
    "* The `for ind, row in tourist.to_crs(\"epsg:2157\").iterrows()` parameters \"iterates over\"(`.iterrows()`[documentation](https://pandas.pydata.org/docs/reference/api/pandas.DataFrame.iterrows.html)) each row (\"tourist\") in the _GeoDataFrame_ tourist, after projecting it to the Irish Transverse Mercator coordinate reference system (EPSG:2157) for distance calculations in meters.\n",
    "\n",
    "* The `pt = row[\"geometry\"].centroid` [(documentation)](https://geopandas.org/en/stable/docs/reference/api/geopandas.GeoSeries.centroid.html): function calculates the centroid of each tourist site geometry(polygon).\n",
    "\n",
    "* The `.distance()`[(documentation)](https://geopandas.org/en/stable/docs/reference/api/geopandas.GeoSeries.distance.html) function calculates the distance between the centroid of the tourist site and all train/bus stations stored in the __GeoDataFrame__, as well as all GP practices stored in the __GeoDataFrame__.\n",
    "\n",
    "* The`.argmin()`[(documentation)](https://pandas.pydata.org/docs/reference/api/pandas.Series.argmin.html) method retrieves the index of the train/bus station with the shortest distance to the tourist site, as well as the index of the nearest GP surgery.\n",
    "\n",
    "* The `.min()`[(documentation)](https://docs.python.org/3/library/functions.html#min) method retrieves the shortest distance to the nearest train/bus station in meters, as well as the shortest distance to the nearest GP surgery.\n",
    "* The `.loc`[(documentation)](https://pandas.pydata.org/docs/reference/api/pandas.DataFrame.loc.html) indexer is a `Pandas` method used for label-based indexing. It is primarily used to access and modify specific rows and columns of a __DataFrame__ based on their labels (row and column names). It allows you to select data by specifying the row labels and column names explicitly.\n",
    "* The `tourist.loc[ind, \"Near_T_Hub\"] = transport.loc[min_ind_trans].Station.title()` , line assigns the name of the nearest transport hub (train/bus station) to the \"Near_T_Hub\" column for the current tourist site. The `.title()`[(documentation)](https://docs.python.org/3/library/stdtypes.html#str.title) is a built-in Python string method it capitalizes the first letter of each word in the station name.\n",
    "Omit the use of the `.title()` method when assigning to the \"GP practice name\" because preserving the original case of the names is necessary for combining data in the next steps.The `.merge` function is Case sensitive.\n",
    "\n",
    "* `/1000` function convert meters into kilometers.\n",
    "  "
   ]
  },
  {
   "cell_type": "code",
   "execution_count": null,
   "id": "7af4b730-0e2e-405d-9994-50d154503419",
   "metadata": {},
   "outputs": [],
   "source": [
    "# for each tourist site centroid,find the closest bus/train station\n",
    "# Record the Shortest distance in km and the name of the station.\n",
    "for ind, row in tourist.to_crs(\"epsg:2157\").iterrows():\n",
    "    pt = row[\"geometry\"].centroid # get the centroid of the each tourist site.\n",
    "    \n",
    "    distance_trans = transport.distance(pt) # find the distance between the centroid and all train station\n",
    "    distance_postgp = post_gp.distance(pt) # find the distance between the centroid and all GP pratices\n",
    "    \n",
    "    min_ind_trans = distance_trans.argmin() # get the index of minimum value\n",
    "    min_dist_trans = distance_trans.min() # get the minimum distance\n",
    "\n",
    "    min_ind_postgp = distance_postgp.argmin()\n",
    "    min_dist_postgp = distance_postgp.min()\n",
    "\n",
    "    # define column header\n",
    "    tourist.loc[ind, \"Near_T_Hub\"] = transport.loc[min_ind_trans].Station.title()\n",
    "    tourist.loc[ind, \"Near_GP\"] = post_gp.loc[min_ind_postgp].PracticeName\n",
    "\n",
    "    # add distance to the closest transport hub\n",
    "    tourist.loc[ind, \"Trans_Dist\"] = min_dist_trans / 1000 # distance in km\n",
    "    tourist.loc[ind, \"GP_Dist\"] = min_dist_postgp / 1000"
   ]
  },
  {
   "cell_type": "markdown",
   "id": "3a3c2e05-bee7-4650-b514-4ce0e0c2fda7",
   "metadata": {},
   "source": [
    "The `.round()`[(documentation)](https://pandas.pydata.org/docs/reference/api/pandas.DataFrame.round.html)  is used to round the distances to a specified number of decimal places.In this case, the distance values are being rounded to centimeter accuracy."
   ]
  },
  {
   "cell_type": "code",
   "execution_count": null,
   "id": "3ddba46b-f70c-4b0c-92ce-134f025b5235",
   "metadata": {},
   "outputs": [],
   "source": [
    "# round the distance to cm accuracy (2 decimal places)\n",
    "tourist.Trans_Dist = tourist.Trans_Dist.round(2)\n",
    "tourist.GP_Dist = tourist.GP_Dist.round(2)"
   ]
  },
  {
   "cell_type": "markdown",
   "id": "7ab49d25-4c40-4926-b4e6-88a31c1e1e6f",
   "metadata": {},
   "source": [
    "First, let's check the first few rows of the resulting \"tourist\" __GeoDataFrame__. Then, we'll inspect the \"Near_GP\" column and verify that all row values are in uppercase. If any row values are not uppercase, we'll need to go back to the previous cell and ensure that the `.title()` function has been removed for the \"post_gp\" __GeoDataFrame__."
   ]
  },
  {
   "cell_type": "code",
   "execution_count": null,
   "id": "9d4609a3-9c8f-40ae-94ab-0b9a65910fe5",
   "metadata": {},
   "outputs": [],
   "source": [
    "tourist.head() # check the header of final data set"
   ]
  },
  {
   "cell_type": "markdown",
   "id": "1650cfde-19c3-4b0c-afeb-a24217e66126",
   "metadata": {},
   "source": [
    "Inspect the first few rows of the post_gp GeoDataFrame and examine the \"PracticeName\" column. You'll observe that all row values are in uppercase."
   ]
  },
  {
   "cell_type": "code",
   "execution_count": null,
   "id": "2d1d57f7-3738-4f3d-aadb-885eb083caf3",
   "metadata": {},
   "outputs": [],
   "source": [
    "post_gp.head()"
   ]
  },
  {
   "cell_type": "markdown",
   "id": "b1f0168a-a9e3-4881-b512-f7d10bda4747",
   "metadata": {},
   "source": [
    "\n",
    "You'll notice that both columns have common row values with uppercase letters. Maintaining case sensitivity is crucial when merging __DataFrames__."
   ]
  },
  {
   "cell_type": "markdown",
   "id": "a50ea23c-e031-4729-9fa2-7e9eb4532eee",
   "metadata": {},
   "source": [
    "Filter the necessary columns from the \"tourist\" __GeoDataFrame__ and create a new __DataFrame__ named \"tourist_out\". "
   ]
  },
  {
   "cell_type": "code",
   "execution_count": null,
   "id": "ed7cc29f-2a24-4b6d-a8b1-eb5d564ee1f3",
   "metadata": {},
   "outputs": [],
   "source": [
    "# Filter necessary columns\n",
    "tourist_out = pd.DataFrame(tourist[[\"SITE\", \"Near_T_Hub\",\"Trans_Dist\",\"Near_GP\", \"GP_Dist\"]])\n"
   ]
  },
  {
   "cell_type": "markdown",
   "id": "7b9d59f2-23cd-45ee-a245-4dec801abe6c",
   "metadata": {},
   "source": [
    "Inspect the first few rows of the tourist_out DataFrame"
   ]
  },
  {
   "cell_type": "code",
   "execution_count": null,
   "id": "eb78697f-b25e-4d47-83d7-3657576d624f",
   "metadata": {},
   "outputs": [],
   "source": [
    "tourist_out.head()"
   ]
  },
  {
   "cell_type": "markdown",
   "id": "fcf93972-fdc3-491d-b0d7-75dca3139b0b",
   "metadata": {},
   "source": [
    "Merge the __DataFrame__ \"post_gp\" with the __GeoDataFrame__ \"tourist_out\" based on a common column, which is \"PracticeName\" from \"post_gp\" and \"Near_GP\" from \"tourist_out\". The `.merge` operation is performed using an __inner join__, ensuring that only rows with matching values in both DataFrames are included in the resulting merged DataFrame named \"merge\".\n",
    "\n",
    "* `pd.merge()`: This function from the Pandas library is used to merge two __DataFrames__.\n",
    "* `post_gp` and `tourist_out`: These are the __DataFrames__ to be merged.\n",
    "* `left_on=\"PracticeName\"` and `right_on=\"Near_GP\"`: These parameters specify the columns from the left and right __DataFrames__ that will be used for the merge operation. In this case, \"PracticeName\" from post_gp and \"Near_GP\" from tourist_out are used.\n",
    "* `how=\"inner\"`: This parameter specifies the type of merge to perform. In this case, an inner join is performed, meaning only the rows with matching values in both __DataFrames__ will be included in the merged DataFrame."
   ]
  },
  {
   "cell_type": "code",
   "execution_count": null,
   "id": "ec5f8293-ff27-486a-8774-00a8f3471354",
   "metadata": {},
   "outputs": [],
   "source": [
    "# Merge DataFrame and GeoDataFrame\n",
    "merged = pd.merge(post_gp, tourist_out,left_on=\"PracticeName\", right_on=\"Near_GP\", how=\"inner\")"
   ]
  },
  {
   "cell_type": "raw",
   "id": "b56618fc-b33b-4225-bce4-0818bd6c08ab",
   "metadata": {},
   "source": [
    "Inspect the first few rows of the \"merged\" __DataFrame__"
   ]
  },
  {
   "cell_type": "code",
   "execution_count": null,
   "id": "ce2ab6bd-9b5d-4eff-bcd4-e899e363b349",
   "metadata": {},
   "outputs": [],
   "source": [
    "merged.head()"
   ]
  },
  {
   "cell_type": "markdown",
   "id": "27402384-b9a3-44d9-8809-4a85ecf556fb",
   "metadata": {},
   "source": [
    "This code filters the necessary columns from the merged __DataFrame__ \"merged\", creates a new __DataFrame__ named output, renames the columns, and saves the result to a CSV file.\n",
    "* The `pd.DataFrame(...)`[(documentation)](https://pandas.pydata.org/docs/reference/api/pandas.DataFrame.html) function creates a new __DataFrame__ named output with the filtered columns from the previous step.\n",
    "* The `.rename`[(documentation)](https://pandas.pydata.org/docs/reference/api/pandas.DataFrame.rename.html) function  is used to rename specified columns to defined new names.\n",
    "* The `inplace=True` function ensures that the changes are made directly to the output DataFrame.\n",
    "* The `.to_csv`[(documentation)](https://pandas.pydata.org/pandas-docs/stable/reference/api/pandas.DataFrame.to_csv.html) function saves the output DataFrame to a CSV file."
   ]
  },
  {
   "cell_type": "code",
   "execution_count": null,
   "id": "959aaca0-3b3b-4d3a-ac80-e3b642e506e2",
   "metadata": {},
   "outputs": [],
   "source": [
    "output = pd.DataFrame(merged[[\"SITE\", \"Near_T_Hub\",\"Trans_Dist\",\"Near_GP\", \"GP_Dist\",\"postcode\"]])\n",
    "output.rename(columns={\"SITE\":\"Tourist Sites\", \"postcode\":\"PostCode\"},inplace=True)\n",
    "output.to_csv(\"data_files/NI_Tourist_trans_GP_Dist.csv\")"
   ]
  },
  {
   "cell_type": "markdown",
   "id": "dcfff7f1-92d2-43d9-9d82-10224a126125",
   "metadata": {},
   "source": [
    "### iii. Coastline spots intergration\n",
    "\n",
    "We'll locate the closest transport hub along with its distance and also identify the nearest GP surgery and its distance from the Coastline spots.\n",
    "\n",
    "### Getting Started\n",
    "\n",
    "The necessary libraries have already been imported in section 4. If you'd like to start from the middle, navigate back to section 4 and import the libraries. Alternatively, you can define new libraries by adding a new cell here."
   ]
  },
  {
   "cell_type": "markdown",
   "id": "66f198ad-9087-4473-967a-fc0a3a268698",
   "metadata": {},
   "source": [
    "Read the downloaded shapefile data (a __GeoDataFrame__) in coastline."
   ]
  },
  {
   "cell_type": "code",
   "execution_count": null,
   "id": "5562e4ec-3681-4fa0-9d44-c850eeb60875",
   "metadata": {},
   "outputs": [],
   "source": [
    "# Read Places_to_Visit_in_Causeway_Coast_and_Glens\n",
    "coastline_tmp = gpd.read_file(\"data_files/download_data/Places_to_Visit_in_Causeway_Coast_and_Glens.shp\") # Path to the input shapefile of Places to Visit in coastaline data"
   ]
  },
  {
   "cell_type": "markdown",
   "id": "e08eb511-4d10-4660-a56c-55c3841fb45e",
   "metadata": {},
   "source": [
    "Check few rows using `.head()` function"
   ]
  },
  {
   "cell_type": "code",
   "execution_count": null,
   "id": "423bcf9e-77c0-4fde-a05b-c865f6fda4eb",
   "metadata": {},
   "outputs": [],
   "source": [
    "coastline_tmp.head()"
   ]
  },
  {
   "cell_type": "markdown",
   "id": "2f75e2fb-d8a6-4149-9b10-0b28b3911184",
   "metadata": {},
   "source": [
    "The code functions similarly to the previous step, with the main difference being that the \"coastal_tmp\" geometry represents points, so there's no need to calculate the centroid as done previously."
   ]
  },
  {
   "cell_type": "code",
   "execution_count": null,
   "id": "ce48f899-b815-4d29-b92b-1d86729871af",
   "metadata": {},
   "outputs": [],
   "source": [
    "# for each coastline spots ,find the closest bus/train station\n",
    "# Record the Shortest distance in km and the name of the station.\n",
    "for ind, row in coastline_tmp.to_crs(\"epsg:2157\").iterrows():\n",
    "    pt = row[\"geometry\"] # consider geometry point.\n",
    "    \n",
    "    distance_trans = transport.distance(pt) # find the distance between the coastline spots and all train station\n",
    "    distance_postgp = post_gp.distance(pt) # find the distance between the coastline spots and all GP pratices\n",
    "    \n",
    "    min_ind_trans = distance_trans.argmin() # get the index of minimum value\n",
    "    min_dist_trans = distance_trans.min() # get the minimum distance\n",
    "\n",
    "    min_ind_postgp = distance_postgp.argmin()\n",
    "    min_dist_postgp = distance_postgp.min()\n",
    "\n",
    "    # define column header\n",
    "    coastline_tmp.loc[ind, \"Near_T_Hub\"] = transport.loc[min_ind_trans].Station.title()\n",
    "    coastline_tmp.loc[ind, \"Near_GP\"] = post_gp.loc[min_ind_postgp].PracticeName\n",
    "\n",
    "    # add distance to the closest transport hub\n",
    "    coastline_tmp.loc[ind, \"Trans_Dist\"] = min_dist_trans / 1000 # distance in km\n",
    "    coastline_tmp.loc[ind, \"GP_Dist\"] = min_dist_postgp / 1000"
   ]
  },
  {
   "cell_type": "markdown",
   "id": "a6a5f335-6dfa-4cb5-83aa-778a8b1ef9e7",
   "metadata": {},
   "source": [
    "Distance rounding to the centimeter accuracy."
   ]
  },
  {
   "cell_type": "code",
   "execution_count": null,
   "id": "b0ee8dbe-7af4-48ee-9965-fc57d801303c",
   "metadata": {},
   "outputs": [],
   "source": [
    "# round the distance to cm accuracy (2 decimal places)\n",
    "coastline_tmp.Trans_Dist = coastline_tmp.Trans_Dist.round(2)\n",
    "coastline_tmp.GP_Dist = coastline_tmp.GP_Dist.round(2)\n"
   ]
  },
  {
   "cell_type": "markdown",
   "id": "dd1ed66c-4f7e-42bd-ac32-ae137f2e35e9",
   "metadata": {},
   "source": [
    "Verify the results"
   ]
  },
  {
   "cell_type": "code",
   "execution_count": null,
   "id": "7964ab52-f4c1-4e1b-937f-9add265aefff",
   "metadata": {},
   "outputs": [],
   "source": [
    "coastline_tmp.head()"
   ]
  },
  {
   "cell_type": "markdown",
   "id": "9541acaf-b7e1-455a-b93e-3c9488f49b14",
   "metadata": {},
   "source": [
    "This code creates a GeoDataFrame containing selected columns. It then converts the CRS to WGS84 and saves as a GeoJSON file."
   ]
  },
  {
   "cell_type": "code",
   "execution_count": null,
   "id": "7436a110-968c-4084-9952-f8cc29fc6b54",
   "metadata": {},
   "outputs": [],
   "source": [
    "coastal_out = gpd.GeoDataFrame(coastline_tmp[[\"Name\", \"Website\",\"geometry\", \"Near_T_Hub\",\"Trans_Dist\",\"Near_GP\", \"GP_Dist\",\"Postcode\"]])\n",
    "coastal_out.to_crs(\"epsg:4326\")\n",
    "coastal_out.to_file(\"data_files/NI_Coastal_spots.geojson\",driver=\"GeoJSON\")"
   ]
  },
  {
   "cell_type": "code",
   "execution_count": null,
   "id": "378fdcb1-de5f-42e4-91a1-0499f7831be8",
   "metadata": {},
   "outputs": [],
   "source": []
  }
 ],
 "metadata": {
  "kernelspec": {
   "display_name": "Python 3 (ipykernel)",
   "language": "python",
   "name": "python3"
  },
  "language_info": {
   "codemirror_mode": {
    "name": "ipython",
    "version": 3
   },
   "file_extension": ".py",
   "mimetype": "text/x-python",
   "name": "python",
   "nbconvert_exporter": "python",
   "pygments_lexer": "ipython3",
   "version": "3.12.0"
  }
 },
 "nbformat": 4,
 "nbformat_minor": 5
}
