{
 "cells": [
  {
   "cell_type": "markdown",
   "id": "aca12fd0-dd54-4ec7-b1ca-ac1a2ca124cc",
   "metadata": {},
   "source": [
    "# Norther Ireland Tourist Map With Folium\n"
   ]
  },
  {
   "cell_type": "markdown",
   "id": "d7b29223-c435-451e-9220-f0c695858fae",
   "metadata": {},
   "source": [
    "__Explore Northern Ireland : Tourist Map with Integrated Transportation Hubs, GP Surgeries and Post Codes__\n",
    "Repository : [sereneeosman/egm722_serenee](https://github.com/sereneeosman/egm722_serenee) \n",
    "\n",
    "## Contents\n",
    "- Overview\n",
    "- Data Provided\n",
    "- Setup\n",
    "- Getting Started\n",
    "## Overview\n",
    "\n",
    "Northern Ireland boasts a rich tapestry of history, culture, and natural beauty, attracting visitors from around the globe. However, navigating its diverse landscapes and accessing essential services can be daunting, especially for newcomers. Recognizing this challenge, I introduced the \"Explore Northern Ireland\" script, a sophisticated yet user-friendly tool tailored to facilitate exploration and enhance safety throughout the journey.\n",
    "The \"Explore Northern Ireland\" script serves as a versatile and convenient tool tailored for anyone exploring Northern Ireland, be it tourists or residents. This script creates an interactive map of comprehensive information on tourist sites, nearest transportation hubs (including both bus and train stations), as well as the distances between these transportation hubs and tourist sites as popups. Moreover, it seamlessly integrates General Practitioner (GP) surgeries for emergency services, utilizing postal codes for easy searchability. By combining these features, the script enhances the overall travel experience, prioritizing safety, and preparedness throughout every stage of the journey.\n",
    "\n",
    "#### Objectives:\n",
    "* __Interactive Map Creation__:Utilizing GeoDataFrame, the script generates an interactive map that visually presents tourist sites across Northern Ireland.\n",
    "* __Tourist Site Information__:Detailed information about each tourist site is included on the map, aiding users in making informed decisions about their destinations.\n",
    "* __Find nearest Transportation Hub__:The script identifies and displays the nearest transportation hubs, comprising both bus and train stations, in proximity to tourist sites, facilitating travel route planning and access to public transportation.\n",
    "* __Find nearest GP Surgeries__:General Practitioner (GP) surgeries are integrated into the map, allowing users to locate emergency medical services easily. Postal codes are leveraged for efficient searchability, ensuring prompt access to medical assistance.\n",
    "* __Distance Calculation__:Distances between transportation hubs/GP Surgeries and tourist sites are calculated and provided, enabling users to estimate travel times and plan itineraries effectively.\n",
    "\n",
    "#### Expected Results:\n",
    "Upon running the script, users will observe the following outcomes:\n",
    "\n",
    "* __Base Map with Counties and Outlines__: The function generates a base map of Northern Ireland featuring colored county boundaries overlaid with the country outline.\n",
    "* __Tourist Sites Overlay__: Tourist site polygons are overlaid onto the base map, facilitating visual identification of their locations. The color of each polygon corresponds to the county name, aiding in easy identification. Detailed information about each tourist site, such as its name, nearest transportation hubs, and distance, is conveniently accessible through pop-up windows. Moreover, the pop-ups specify the nearest GP surgery and its distance, cross-referenced with postal codes, enhancing user understanding.\n",
    "* __Coastal tourist Points Display__: Coastal spots data from a GeoJSON file is showcased on the map, potentially as markers. Pop-ups offer comprehensive details about each spot, including name, website URL, nearest transportation hubs, and distance. Moreover, the pop-ups highlight the nearest GP surgery, cross-referenced with postal codes, and its distance from each coastal spot.\n",
    "* __Interactive Features__: Additional data from a CSV/GeoJSON file enriches the map with attribute information about tourist sites, transportation hubs, and GP surgeries. Interactive elements such as pop-ups provide detailed insights when users hover over specific points of interest.\n",
    "* __Final Map Visualization__: Once all data is integrated and displayed, the function will return an interactive Folium map object that users can view in a web browser. This map will contain all the layers mentioned above, providing a comprehensive overview of tourist attractions, transportation hubs, GP surgeries,postal codes,distance values and coastal spots in Northern Ireland.\n",
    "* __Save as HTML__: The function may save the generated Folium map as an HTML file, allowing users to access it offline or embed it in web pages.\n",
    "\n",
    "\n",
    "\n",
    "\n",
    "## Data Provided\n",
    "\n",
    "In the data_file folder,contains are as follows:\n",
    "\n",
    "* `NI_Outline.shp`, a shapefile comprising the Northern Ireland country outline.\n",
    "\n",
    "* `NI_Counties.shp`, a shapefile containing the boundaries of Northern Ireland's counties \n",
    "\n",
    "* `NI_Tourist_Sites.shp` , a shapefile containing polygon data of Historical Parks and Gardens.\n",
    "  \n",
    "* `NI_Coastal_spots.geojson`, a GeoJSON file containing information on Places to Visit in Causeway Coast and Glens.\n",
    "  \n",
    "* `NI_PostCodes_GP.geojson`, a GeoJSON file contain GP surgery information with postal codes in Northern Ireland.\n",
    "\n",
    "* `NI_Tourist_trans_GP_Dist.csv`,a csv file with information about nearest Transport Hub and Nearest GP surgery information.\n",
    "\n",
    "The script  __Integrated_Data_Analysis.ipynb/ .py__ outline the  process of __Re-Projection__, __Polygon Clipping__, and the creation of `NI_Costal_spots.geojson` file, `NI_Costal_spots.geojson`, `NI_PostCodes_GP.geojson` and `NI_Tourist_trans_GP_Dist.csv` files. To execute the script,  ensure you download the specified files into the __data_files/download_data__ folder. Remember to extract shapefiles from __.zip__ archives before use.\n",
    "- `OSNI_Open_Data_-_Largescale_Boundaries_-_NI_Outline.shp`, A shapefile comprising the Northern Ireland country outline was obtained from [Data.gov.uk](https://www.data.gov.uk/dataset/738c0cac-d330-4ba9-a2a5-8956383fb4a9/osni-open-data-largescale-boundaries-ni-outline).\n",
    "- `OSNI_Open_Data_-_Largescale_Boundaries_-_County_Boundaries_.shp`, A shapefile containing the boundaries of Northern Ireland's counties was sourced from [OpenDataNI](https://admin.opendatani.gov.uk/dataset/osni-open-data-largescale-boundaries-county-boundaries).\n",
    "  \n",
    "- `historic-parks-and-gardens.shp` , A shapefile containing polygon data of Historic Parks and Gardens(valid as of April 2024) was obtained from [OpenDataNI](https://admin.opendatani.gov.uk/dataset/historic-parks-and-gardens/resource/1f59b6a5-4f8d-4456-9009-e00586062b4d).\n",
    "  \n",
    "- `Places_to_Visit_in_Causeway_Coast_and_Glens.shp`, A shapefile file containing information on Places to Visit in Causeway Coast and Glens sourced from [OpenDataNI](https://admin.opendatani.gov.uk/dataset/places-to-visit-in-causeway-coast-and-glens)\n",
    "  \n",
    "- `translink-stations-ni.geojson`, a GeoJSON file containing the locations of all Bus and Rail stations in Northern Ireland, from [OpenDataNI](https://www.opendatani.gov.uk/@translink/translink-ni-railways-stations)\n",
    "  \n",
    "- `ukpostcodes.csv`, a csv file contain all postcodes in united Kingdom from [FreeMapTools](https://www.freemaptools.com/download-uk-postcode-lat-lng.htm#google_vignette)\n",
    "  \n",
    "- `gp-practice-reference-file---jan-2024.csv`, a csv file contain General Practitioner (GP) surgeries information (valid as of April 2024), from[OpenDataNI](https://www.opendatani.gov.uk/@business-services-organisation/gp-practice-list-sizes)\n",
    "\n",
    "  \n",
    "\n"
   ]
  },
  {
   "cell_type": "markdown",
   "id": "36802e40-9abd-4257-bc9b-cb677ba803fc",
   "metadata": {},
   "source": [
    "__Important Note__: All datasets utilize the same Coordinate Reference System [(CRS)](https://geopandas.org/en/stable/docs/user_guide/projections.html), specifically the EPSG code for WGS84 latitude/longitude [(EPSG:4326)](https://epsg.io/4326). This consistency enables seamless integration of map data onto  `folium.map`"
   ]
  },
  {
   "cell_type": "markdown",
   "id": "ab5ab170-f399-44b3-872c-6069fccc04e8",
   "metadata": {},
   "source": [
    "## Setup"
   ]
  },
  {
   "cell_type": "markdown",
   "id": "92aa6d22-581f-4d7e-a78d-3fd5dfe684aa",
   "metadata": {},
   "source": [
    "## Getting Started\n",
    "To get started, open Jupyter Notebook and begin working through the notebook titled \"NI_TouristMap_edit.ipynb\".\n",
    "To execute the cell, highlight it by clicking on it, then either press __Ctrl + Enter__ or click the triangular __\"play\"__ button located at the top of this panel.\n",
    "\n",
    "### Importing Libraries\n",
    "To get started, first import the required python libraries.\n",
    "* __os__: This library provides a way to interact with the operating system, such as managing files and directories.[(Documentation)](https://docs.python.org/3/library/os.html)\n",
    "* __pandas__(aliased as pd): A powerful data manipulation library that allows you to work with structured data (e.g., data frames,Comma Separated Value (CSV) file).[(Documentation)](https://pandas.pydata.org/) \n",
    "* __geopandas__ (aliased as gpd): An extension of Pandas specifically designed for working with geospatial data (e.g., vector data)[(Documentation)](https://geopandas.org/en/stable/)\n",
    "* __folium__: A Python library for creating interactive maps.[(Documentation)](https://python-visualization.github.io/folium/latest/)\n"
   ]
  },
  {
   "cell_type": "code",
   "execution_count": null,
   "id": "63f3e54a-69f3-4513-b664-300b0300e17d",
   "metadata": {},
   "outputs": [],
   "source": [
    "import os\n",
    "import pandas as pd\n",
    "import geopandas as gpd\n",
    "import folium"
   ]
  },
  {
   "cell_type": "markdown",
   "id": "a3c34036-4091-44e4-a10a-724236a8f3f2",
   "metadata": {},
   "source": [
    "### Reading Geospatial Data:\n",
    "\n",
    "The code utilizes GeoPandas' `.read_file()` function [(Documentation)](https://geopandas.org/en/stable/docs/reference/api/geopandas.read_file.html) to read geospatial data from shapefiles. When handling shapefiles, they are treated as __GeoDataFrame__[(documentation)](https://geopandas.org/en/stable/docs/reference/api/geopandas.GeoDataFrame.html),resembling attribute tables but with added geospatial functionalities.\n",
    "\n",
    "A __GeoDataFrame__ enhances a Pandas __DataFrame__ [(Documentation)](https://pandas.pydata.org/docs/reference/api/pandas.DataFrame.html) by integrating geospatial capabilities.\n",
    "It stored geometry for each feature points, lines, polygons, along with associated attributes. With GeoDataFrames, users can conduct spatial operations and effectively visualize data on maps. \n",
    "\n",
    "Initially, we'll read data for country outlines and counties to establish the foundation of our map.\n"
   ]
  },
  {
   "cell_type": "code",
   "execution_count": null,
   "id": "9a078e36-8fcd-4b28-a6f9-4a438405113b",
   "metadata": {},
   "outputs": [],
   "source": [
    "# Read the shapefiles\n",
    "outline = gpd.read_file(os.path.abspath(\"data_files/NI_Outline.shp\")) # Path to the input shapefile of Country Outline data \n",
    "counties = gpd.read_file(os.path.abspath(\"data_files/NI_Counties.shp\")) # Path to the input shapefile of Counties data \n"
   ]
  },
  {
   "cell_type": "markdown",
   "id": "7da2ec08-4398-41b5-a9da-4c54748f4a25",
   "metadata": {},
   "source": [
    "###  Create a Base map\n",
    "To generate an interactive map from __GeoDataFrames__, we utilize the `.explore`[(Documentation)](https://geopandas.org/en/stable/docs/reference/api/geopandas.GeoDataFrame.explore.html)function  which generates a __folium.Map__[(Documentation)](https://geopandas.org/en/stable/docs/user_guide/interactive_mapping.html).\n",
    "We assign the result to `m = folium.Map`[(Documentation)](https://python-visualization.github.io/folium/latest/getting_started.html#Creating-a-map), creating a base map.\n",
    "\n",
    "We will utilize the \"CountiesName\" column to visualize the each polygon, and apply the __Set2__ colormap from `matplotlib` to set the colors.More information about colormaps can be found [here](https://matplotlib.org/stable/users/explain/colors/colormaps.html). \n",
    "In this case, each county will be assigned a color based on its name."
   ]
  },
  {
   "cell_type": "code",
   "execution_count": null,
   "id": "c189e0cb-051b-4ed6-9496-a87260d6d668",
   "metadata": {},
   "outputs": [],
   "source": [
    "# Create a Base Map on Counties name.\n",
    "m = counties.explore(\"CountyName\", cmap = \"Set2\")\n"
   ]
  },
  {
   "cell_type": "markdown",
   "id": "6570c4e5-bc30-4dc6-8b52-badaae928975",
   "metadata": {},
   "source": [
    "### Adding Country outline into Base folium map\n"
   ]
  },
  {
   "cell_type": "markdown",
   "id": "b953ac8e-135c-47b6-8a3e-9a35051be5f3",
   "metadata": {},
   "source": [
    "Next we will add country outline into the base map from read shapefile (NI_Outline.shp).\n",
    "\n",
    "To do this we use `folium.GeoJson()`[(Documentation)](https://python-visualization.github.io/folium/latest/user_guide/geojson/geojson.html) function in the folim library.\n",
    "\n",
    "GeoJSON is a format for encoding a variety of geographic data structures,JSON (JavaScript Object Notation) format. It's commonly used in web mapping applications and spatial databases to represent geographic features such as points, lines, polygons, or a set of coordinates.\n",
    "This data defines the shape of an area on the map.\n",
    "\n",
    "* __outline__ : This is the GeoDataFrame containing the outline shape data.\n",
    "\n",
    "* __style_function=lambda feature__ [(documentation)](https://python-visualization.github.io/folium/latest/user_guide/geojson/geojson.html#Styling)  : This is an argument passed to customize the style of the GeoJSON features. It's a `lambda function` that takes a feature as input and returns a dictionary specifying the style properties.\n",
    "\n",
    "* __\"color\": \"black\"__,  : This sets the color of the outline to black.\n",
    "\n",
    "* __\"fillOpacity\": 0__ : This sets the fill opacity of the outline to 0, meaning it will be transparent and won't fill the area inside the outline.\n",
    "\n",
    "* __name=\"outline\"__  : This sets the name of the GeoJson layer to 'outline'. This name can be used to control the visibility of the layer in the folium map's layer control.\n",
    "\n",
    "* __.add_to(m)__ : This method adds the GeoJson layer to the base folium map _m_."
   ]
  },
  {
   "cell_type": "code",
   "execution_count": null,
   "id": "60166c1b-7e96-4206-ac71-870842fd74ad",
   "metadata": {},
   "outputs": [],
   "source": [
    "# Add the outline with a black frame\n",
    "folium.GeoJson(\n",
    "    outline, # outline shape data\n",
    "    style_function=lambda feature: {  # customize the style of the GeoJSON features\n",
    "        \"color\": \"black\",  # sets the color of the outline to black\n",
    "        \"fillOpacity\": 0 # sets the fill opacity as transparent\n",
    "    },\n",
    "    name=\"outline\" #name of the GeoJson layer\n",
    ").add_to(m) #adds the GeoJson layer to the base folium map _m_."
   ]
  },
  {
   "cell_type": "markdown",
   "id": "e5bc8540-0614-4ae8-997a-2c65cdfcfb22",
   "metadata": {},
   "source": [
    "If you encounter the result __<folium.features.GeoJson at 0x177bc95bb60>__ without an error message, it signifies that the GeoJSON layer object has been successfully created and added to the map (m)."
   ]
  },
  {
   "cell_type": "markdown",
   "id": "688fd83e-9e3d-46f9-9c25-60c19ef1e07e",
   "metadata": {},
   "source": [
    "Display the base folium map"
   ]
  },
  {
   "cell_type": "code",
   "execution_count": null,
   "id": "8effb8e4-bd77-4f1e-9455-8a240cd238db",
   "metadata": {},
   "outputs": [],
   "source": [
    "# Display Folium Map\n",
    "m"
   ]
  },
  {
   "cell_type": "markdown",
   "id": "702d07fc-7a4f-4c0e-bcf9-53f9f5ce04f8",
   "metadata": {},
   "source": [
    "As depicted, a color legend is incorporated at the bottom right-hand corner of the map, providing information on the colors assigned to each polygon. Additionally, a scale is situated at the bottom left-hand corner of the map. The country outline of Northern Ireland is displayed with black border lines.You can zoom in or out to examine finer details, including those on the [OpenStreetMap](https://www.openstreetmap.org/#map=5/35.588/134.380) base layer."
   ]
  },
  {
   "cell_type": "markdown",
   "id": "d302834a-f42a-40fd-8315-bb4e528990e4",
   "metadata": {},
   "source": [
    "### Convert csv data to vector data\n",
    "The `pd.read_csv()` [(documentation)](https://pandas.pydata.org/pandas-docs/stable/reference/api/pandas.read_csv.html) function is used to read data from a CSV (Comma-Separated Values) file into a Pandas __DataFrame__. The function reads the contents of the CSV file and creates a DataFrame with the data.\n",
    "\n",
    "__DataFrame__ [(documentation)](https://pandas.pydata.org/docs/reference/api/pandas.DataFrame.html) is a two-dimensional labeled data structure in Pandas. It organizes data into rows and columns, similar to a table. Each column in the DataFrame corresponds to a variable, and each row represents an observation.\n",
    "\n",
    "We'll read the integrated CSV file containing tourist site names, details of the nearest transport hubs, and details of the nearest GP surgeries. Refer to the __Integrated_Data_Analysis.ipynb__ file for instructions on how to create this csv file."
   ]
  },
  {
   "cell_type": "code",
   "execution_count": null,
   "id": "dc26d69b-a9a0-4c1a-aa07-8963bf2698a6",
   "metadata": {},
   "outputs": [],
   "source": [
    "#read intergrated csv file\n",
    "df = pd.read_csv(\"data_files/NI_Tourist_trans_GP_Dist.csv\")"
   ]
  },
  {
   "cell_type": "markdown",
   "id": "75f4013c-00af-4c6b-8423-24a156f552f6",
   "metadata": {},
   "source": [
    "The `.head()`[(documentation)](https://pandas.pydata.org/docs/reference/api/pandas.DataFrame.head.html) function is used to display the first few rows of the `df`(a __DataFrame__). By default, it returns the first five rows, but you can specify the number of rows you want to display by passing an integer argument to the function (e.g., df.head(10) would display the first ten rows)"
   ]
  },
  {
   "cell_type": "code",
   "execution_count": null,
   "id": "62bab776-5258-4ec9-8cf1-75d56d7939f0",
   "metadata": {},
   "outputs": [],
   "source": [
    "# Check the first few rows of df \n",
    "df.head()"
   ]
  },
  {
   "cell_type": "markdown",
   "id": "c9f14a1d-2b48-4f63-9891-ea2e93d18e14",
   "metadata": {},
   "source": [
    "Next, we'll open the base shapefile of \"tourist sites,\" which includes polygon data. \n",
    "The `gpd.read_file`[(documentation)](https://geopandas.org/en/stable/docs/reference/api/geopandas.read_file.html) function, reads the shapefile and returns a __GeoDataFrame__.\n",
    "\n"
   ]
  },
  {
   "cell_type": "code",
   "execution_count": null,
   "id": "3e08f7fc-f0f3-4fa8-8b61-6794be064eb3",
   "metadata": {},
   "outputs": [],
   "source": [
    "# read tourist site polygon data\n",
    "tourist = gpd.read_file(os.path.abspath(\"data_files/NI_Tourist_Sites.shp\")) # path to the tourist site shapefile data"
   ]
  },
  {
   "cell_type": "markdown",
   "id": "16029df5-76c2-4323-af26-9eb7b03e718c",
   "metadata": {},
   "source": [
    "The `.columns`[(documentation)](https://www.geeksforgeeks.org/python-pandas-dataframe-columns/) fuction desplay name of the field head in attributes of the DataFrame object in pandas. \n",
    "\n",
    "When you input `tourist.columns`, it returns an index of column labels within the \"tourist\" __DataFrame__. "
   ]
  },
  {
   "cell_type": "code",
   "execution_count": null,
   "id": "2e04da0d-5b4d-4c70-b59c-eff6e8a671f1",
   "metadata": {},
   "outputs": [],
   "source": [
    "# Displaying the column names of the shapefile.\n",
    "tourist.columns"
   ]
  },
  {
   "cell_type": "markdown",
   "id": "c5d915a6-49ed-4125-ad51-0151da5aeb45",
   "metadata": {},
   "source": [
    "This code merges a GeoDataFrame and a DataFrame, namely __tourist__ and __df__, based on a common column in each dataset.\n",
    "\n",
    "* The `.merge`[(documentation)](https://pandas.pydata.org/docs/reference/api/pandas.merge.html) fuction provided attempts to merge the two datasets. Merge these datasets based on a common field (the \"SITE\"[tourist] and \"Tourist Sites\"[df] columns)\n",
    "\n",
    "* The `left_on` parameter specifies the column name in the left dataset (__tourist_site__) to use for merging (in this case, \"SITE\").\n",
    "\n",
    "* The `right_on` parameter specifies the column name in the right dataset (__df__) to use for merging (in this case, \"Tourist Sites\").\n",
    "\n",
    "* The resulting `merge_site` DataFrame will contain combined rows from both datasets.\n",
    "\n",
    "* The `.head()` method is then called on the merged DataFrame to display the first few rows.By default, it shows the first five rows, along with the column names.\n"
   ]
  },
  {
   "cell_type": "code",
   "execution_count": null,
   "id": "75eb5d8f-f360-4726-927f-bc14eaaff08e",
   "metadata": {},
   "outputs": [],
   "source": [
    "#Merge the CSV data (DataFrame) with the shapefile data (GeoDataFrame) based on a common column.\n",
    "merge_site = tourist.merge(df, left_on=\"SITE\", right_on= \"Tourist Sites\")\n",
    "merge_site.head()"
   ]
  },
  {
   "cell_type": "markdown",
   "id": "ef3ce173-1d32-4a7e-8842-be99a60c3f1c",
   "metadata": {},
   "source": [
    "This code creates a new GeoDataFrame named \"visit_geo\" by selecting specific columns from the previously merged DataFrame \"merge_site\".\n",
    "\n",
    "* The first line of code selects specific columns from the merge_site DataFrame.  Selection of the __geometry__ column is important as it contain the cooridnates and feature types. The geometry column is necessary for the second command line to generate the GeoDataFrame.\n",
    "* The second command `.GeoDataFrame`[(documentation)](https://geopandas.org/en/stable/docs/reference/api/geopandas.GeoDataFrame.html)   converts the __DataFrame__ named \"visit_filter\" into a __GeoDataFrame__.\n",
    "* The `.head()` fuction displays the first few rows  of the \"visit_geo\" GeoDataFrame.\n"
   ]
  },
  {
   "cell_type": "code",
   "execution_count": null,
   "id": "044257a4-54c5-468d-906d-66982e090650",
   "metadata": {},
   "outputs": [],
   "source": [
    "# Create a new GeoDataFrame with specified columns\n",
    "# Check the Head of result\n",
    "visit_filter = merge_site[[\"Tourist Sites\", \"Near_T_Hub\",\"Trans_Dist\",\"Near_GP\", \"GP_Dist\",\"PostCode\",\"geometry\"]]\n",
    "visit_geo = gpd.GeoDataFrame(visit_filter)\n",
    "visit_geo.head()"
   ]
  },
  {
   "cell_type": "markdown",
   "id": "6b21a84e-d35e-4c6d-9451-058d9d4594ee",
   "metadata": {},
   "source": [
    "We will add county names into the visit_geo file, where geometries intersect.\n",
    "\n",
    "The `.sjoin` [(documentation)](https://geopandas.org/en/stable/docs/reference/api/geopandas.sjoin.html) function allows spatial join of the two GeoDataFrames (`gpd.sjoin(left_df, right_df, how='inner'`).\n",
    "\n",
    "* `left_df`: The left GeoDataFrame (in this case, visit_geo)\n",
    "* `right_df`: The right GeoDataFrame (in this case, counties)\n",
    "* `how:'inner'`: Retains only the rows where geometries intersect in both GeoDataFrames.\n"
   ]
  },
  {
   "cell_type": "code",
   "execution_count": null,
   "id": "183dd87c-5d4e-4701-bce0-3b8235ba44bf",
   "metadata": {},
   "outputs": [],
   "source": [
    "# Merge Two GeoDataFrames to attach county name\n",
    "visit_merge = gpd.sjoin(visit_geo,counties,how=\"inner\")"
   ]
  },
  {
   "cell_type": "markdown",
   "id": "c8a77a5d-2853-4a6e-9236-3311dcac5d91",
   "metadata": {},
   "source": [
    "To veryfy the results `.head()` function used to retrieve the first few rows (usually the top 5 rows) GeoDataFrame. It provides a quick preview of the data contained within the GeoDataFrame.\n"
   ]
  },
  {
   "cell_type": "code",
   "execution_count": null,
   "id": "3b288992-4c50-4926-80da-1764085040c3",
   "metadata": {},
   "outputs": [],
   "source": [
    "# Check the Head \n",
    "visit_merge.head()"
   ]
  },
  {
   "cell_type": "markdown",
   "id": "279950f2-f53c-4258-97d6-b543d3952feb",
   "metadata": {},
   "source": [
    "You will see result GeoDatFrame contain both colums of the \"Counties\" file and \"visit_geo\" file.\n",
    "\n",
    "The next code filters specific columns from the __GeoDataFrame__, constructs a new GeoDataFrame from the filtered data.\n",
    "This process is commonly used to focus on relevant columns and convert tabular data with geometric information into a format suitable for spatial analysis.\n",
    "\n",
    "Then displays the first few rows of the resulting GeoDataFrame."
   ]
  },
  {
   "cell_type": "code",
   "execution_count": null,
   "id": "5ace271e-3d58-4225-b9c1-f7d8fd2ef550",
   "metadata": {},
   "outputs": [],
   "source": [
    "# Re-filtered the merge file.\n",
    "# Check the Head \n",
    "visit_all = visit_merge[[\"Tourist Sites\", \"Near_T_Hub\",\"Trans_Dist\",\"Near_GP\", \"GP_Dist\",\"PostCode\",\"geometry\",\"CountyName\"]]\n",
    "visit_all.head()"
   ]
  },
  {
   "cell_type": "markdown",
   "id": "1f55d897-f141-4927-bc0b-2f80ebb3689f",
   "metadata": {},
   "source": [
    "Next we will display the Geodatabase on the folium map and popup the attribute information.\n",
    "\n",
    "The `.explore`[(documentation)](https://geopandas.org/en/stable/docs/reference/api/geopandas.GeoDataFrame.explore.html) fuction is used to visualize the polygons of tourist site (Named \"visit_all\") base on the County name.This implies that the symbology is categorized according to the __county name__, assigning a single color to each polygon belonging to a specific county.\n",
    "\n",
    "* `\"CountyName\"`: Specifies the column to be visualized.\n",
    "* `cmap = \"gist_rainbow\"` : Assigning corresponding colors to each tourist site polygons base on the county name using `matplotlib` colormap library.The more about `matplotlib` library, defined \"color map\" [(Documents)](https://matplotlib.org/stable/users/explain/colors/colormaps.html).\n",
    "* `m=m`: Sets the base map m to be displayed. If `m=None`, it prevents recursion errors.\n",
    "* `popup=True`: Enables popups to display additional information when interacting with the map.\n",
    "* `legend=False`: Disables the display of the legend on the map."
   ]
  },
  {
   "cell_type": "code",
   "execution_count": null,
   "id": "b0800b42-a3b4-4860-956e-10c29f93f3e8",
   "metadata": {},
   "outputs": [],
   "source": [
    "# Display Created GeoDataframe on the base Map\n",
    "visit_all.explore(\"CountyName\", # show the CountyName column\n",
    "                  cmap=\"gist_rainbow\", # use the \"hsv\" colormap from matplotlib\n",
    "                  m=m, # set the base folium.map\n",
    "                  popup = True, #Show information as popup when curser move on to the polygon\n",
    "                  legend = False, #Don`t display a separated legend.\n",
    ")                  "
   ]
  },
  {
   "cell_type": "markdown",
   "id": "d35c484f-aeb4-45f2-b7a5-21ab21168ac3",
   "metadata": {},
   "source": [
    "### Adding Coastline visit spots into Folim map"
   ]
  },
  {
   "cell_type": "markdown",
   "id": "5d86c54c-6146-4bd4-967d-13fd15f19ad7",
   "metadata": {},
   "source": [
    "The code reads a GeoJSON file named \"NI_Coastal_spots.geojson\" using the GeoPandas `read_file` [(documentation)](https://geopandas.org/en/stable/docs/reference/api/geopandas.read_file.html)function.\n",
    "\n",
    "This GeoJSON file contains data about Places to Visit in Causeway Coast and Glens, including information about the nearest transport hub and its distance, nearest GP surgery details and distance, and additional data such as the URL for the website.\n",
    "Refer to the __Integrated_Data_Analysis.ipynb__ file for instructions on how to create the GeoJSON file."
   ]
  },
  {
   "cell_type": "code",
   "execution_count": null,
   "id": "0a7088cf-713a-4e22-8e75-15d4eb18eb01",
   "metadata": {},
   "outputs": [],
   "source": [
    "# read geojason file\n",
    "coastalpt = gpd.read_file(os.path.abspath(\"data_files/NI_Coastal_spots.geojson\"))"
   ]
  },
  {
   "cell_type": "markdown",
   "id": "25dc4d26-8157-488a-b6c4-f000a8f40529",
   "metadata": {},
   "source": [
    "Printing `coastline.head()` would display the first few rows of the GeoDataFrame coastalpt. "
   ]
  },
  {
   "cell_type": "code",
   "execution_count": null,
   "id": "f126de6b-b8ab-4f0f-b3a7-d704c3405cb0",
   "metadata": {},
   "outputs": [],
   "source": [
    "coastalpt.head()"
   ]
  },
  {
   "cell_type": "markdown",
   "id": "4fb4d906-8c7a-4522-9c16-cad7ef91d810",
   "metadata": {},
   "source": [
    "This code snippet defines a dictionary named coastline_args containing parameters for configuring the display of \"coastalpt\" `markers` [(documentation)](https://python-visualization.github.io/folium/latest/getting_started.html#Adding-markers) on a folium map. \n",
    "\n",
    "* `\"m\": m`: This parameter specifies the folium map (m) on which the coastline markers will be plotted. The value associated with this key is an existing folium map instance (m).\n",
    "* `\"marker_type\": \"marker\"`: This parameter specifies the type of marker to be used for the coastline. In this case, it's set to \"marker\", indicating standard point markers.\n",
    "* `\"popup\": True`: This parameter determines whether popups will be displayed when clicking on the markers. By setting it to True, popups will be enabled, allowing additional information to be shown when interacting with the markers. \n",
    "* `\"legend\"`: False: This parameter controls the display of a legend. Here, it's set to False, indicating that no legend will be shown for the markers. \n",
    "* `\"marker_kwds\": {...}`: This parameter provides additional keyword arguments for styling the markers. Arguments based on the `folium.Map.Icon` [(documentation)](https://python-visualization.github.io/folium/latest/user_guide/ui_elements/icons.html) .In this case, it contains a dictionary with the following settings: `\"icon\"`: This sets the icon for the marker.\n",
    "* `folium.Icon(...)`: This specifies the style of the marker icon. Here, it's configured with a red color `color=\"red\"` (\"red\") and a star icon `icon=\"star\"`(\"star\") from the [Font Awesome icon](https://docs.fontawesome.com/apis/javascript/icon-library) library `prefix='fa'`(\"fa\"). also you can customize your icon with [Bootstrap](https://icons.getbootstrap.com/) icon library.\n"
   ]
  },
  {
   "cell_type": "code",
   "execution_count": null,
   "id": "4539cc68-71e7-4c51-9746-d5ebda670448",
   "metadata": {},
   "outputs": [],
   "source": [
    "# Assign Marker Parameters\n",
    "coastalpt_args = {\n",
    "    \"m\": m, # specifies the folium map (m)\n",
    "    \"marker_type\": \"marker\", #specifies the type of marker\n",
    "    \"popup\": True, #Show information as popup when curser move on to the polygon\n",
    "    \"legend\": False, # Don`t display a separated legend.\n",
    "    \"marker_kwds\": {\"icon\": folium.Icon(color=\"red\", icon=\"star\", prefix='fa')} #style of the marker icon display red color marker with star and refer FontAwesome icon Library\n",
    "    \n",
    "}"
   ]
  },
  {
   "cell_type": "markdown",
   "id": "e1953b58-6c26-487a-82fe-f0b0778033d1",
   "metadata": {},
   "source": [
    "Display the \"coastalpt\" Marker on the folium map\n",
    "\n",
    "The `.explore()` visualizes the coastalpt GeoDataFrame on the folium map, using the specified parameters.The points are categorized based on the __\"Name\"__ column, and the marker properties are set according to the `coastalpt_args` dictionary.\n",
    "\n"
   ]
  },
  {
   "cell_type": "code",
   "execution_count": null,
   "id": "8e7ed99a-34da-4b2e-b538-92ce59dd527f",
   "metadata": {},
   "outputs": [],
   "source": [
    "# Display the \"coastalpt\" Marker on the folium map with the customized marker dictionary\n",
    "coastalpt.explore (\"Name\", **coastalpt_args)"
   ]
  },
  {
   "cell_type": "markdown",
   "id": "00e4e315-1aa1-4e49-9d11-23776a293ed0",
   "metadata": {},
   "source": [
    "__Exporting Folium Map__\n",
    "Save the created folim map (represented by the m object) as an HTML file.\n",
    "\n",
    "The `m.save` command is used to save the current state of a map (represented by the m object) as an HTML file named “NI_tourist_MAP.html”. \n",
    "You can then open this HTML file in a web browser to view the interactive map."
   ]
  },
  {
   "cell_type": "code",
   "execution_count": null,
   "id": "bc96b557-1305-43f1-815f-271dc0e7884a",
   "metadata": {},
   "outputs": [],
   "source": [
    "# Export the Folium Map\n",
    "m.save(\"NI_tourist_MAP.html\")"
   ]
  },
  {
   "cell_type": "markdown",
   "id": "550872c5-65d5-4ca3-9a36-18da6a6f0785",
   "metadata": {},
   "source": [
    "You have successfully generated the tourist map for Northern Ireland.\n"
   ]
  }
 ],
 "metadata": {
  "kernelspec": {
   "display_name": "Python 3 (ipykernel)",
   "language": "python",
   "name": "python3"
  },
  "language_info": {
   "codemirror_mode": {
    "name": "ipython",
    "version": 3
   },
   "file_extension": ".py",
   "mimetype": "text/x-python",
   "name": "python",
   "nbconvert_exporter": "python",
   "pygments_lexer": "ipython3",
   "version": "3.12.0"
  }
 },
 "nbformat": 4,
 "nbformat_minor": 5
}
